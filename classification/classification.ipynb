{
 "cells": [
  {
   "cell_type": "markdown",
   "metadata": {},
   "source": [
    "<div style=\"font-family: 'Times New Roman', Times, serif; text-align: center;\">\n",
    "<b>ЛАБОРАТОРНА РОБОТА №2</b><br>\n",
    "<br>\n",
    "<b>ПОРІВНЯННЯ МЕТОДІВ КЛАСИФІКАЦІЇ ДАНИХ</b><br>\n",
    "<br>\n",
    "</div>\n",
    "<div style=\"font-family: 'Times New Roman', Times, serif;\">\n",
    "<i><b>Мета роботи:</b> використовуючи спеціалізовані бібліотеки та мову програмування Python дослідити різні методи класифікації даних та навчитися їх порівнювати.</i><br>\n",
    "<br>\n",
    "Роботу виконав студент групи ІН-401, <b>Уманський Дмитро</b>\n",
    "</div>\n",
    "\n",
    "\n"
   ]
  },
  {
   "cell_type": "markdown",
   "metadata": {},
   "source": [
    "# Імпорт бібліотек\n",
    "\n",
    "Спершу треба імпортувати необхідні бібліотеки:\n",
    "* `numpy` для математичних операцій\n",
    "* `pandas` для роботи з даними\n",
    "* `matplotlib` для візуалізації\n",
    "* `sklearn` для роботи з моделями"
   ]
  },
  {
   "cell_type": "code",
   "execution_count": 29,
   "metadata": {},
   "outputs": [],
   "source": [
    "import numpy as np\n",
    "import pandas as pd\n",
    "import matplotlib.pyplot as plt\n",
    "from sklearn.preprocessing import LabelEncoder, StandardScaler\n",
    "from sklearn.svm import LinearSVC, SVC\n",
    "from sklearn.multiclass import OneVsRestClassifier\n",
    "from sklearn.model_selection import train_test_split, cross_val_score"
   ]
  },
  {
   "cell_type": "markdown",
   "metadata": {},
   "source": [
    "# Читання файлів\n",
    "\n",
    "## Завантаження файлів\n",
    "\n",
    "Тепер, для комфортної роботи з даними в майбутньому, їх слід перетворити у об'єкт `DataFrame`:"
   ]
  },
  {
   "cell_type": "code",
   "execution_count": 30,
   "metadata": {},
   "outputs": [],
   "source": [
    "input_file = 'income_data.txt' # Вхідний файл\n",
    "df = pd.read_csv(input_file, header=None, na_values=' ?', skipinitialspace=True)"
   ]
  },
  {
   "cell_type": "markdown",
   "metadata": {},
   "source": [
    "## Отримання інформації про дані\n",
    "Можна також переглянути перші 5 рядків фрейму й статистичну інформацію про нього"
   ]
  },
  {
   "cell_type": "code",
   "execution_count": 31,
   "metadata": {},
   "outputs": [
    {
     "data": {
      "text/html": [
       "<div>\n",
       "<style scoped>\n",
       "    .dataframe tbody tr th:only-of-type {\n",
       "        vertical-align: middle;\n",
       "    }\n",
       "\n",
       "    .dataframe tbody tr th {\n",
       "        vertical-align: top;\n",
       "    }\n",
       "\n",
       "    .dataframe thead th {\n",
       "        text-align: right;\n",
       "    }\n",
       "</style>\n",
       "<table border=\"1\" class=\"dataframe\">\n",
       "  <thead>\n",
       "    <tr style=\"text-align: right;\">\n",
       "      <th></th>\n",
       "      <th>0</th>\n",
       "      <th>1</th>\n",
       "      <th>2</th>\n",
       "      <th>3</th>\n",
       "      <th>4</th>\n",
       "      <th>5</th>\n",
       "      <th>6</th>\n",
       "      <th>7</th>\n",
       "      <th>8</th>\n",
       "      <th>9</th>\n",
       "      <th>10</th>\n",
       "      <th>11</th>\n",
       "      <th>12</th>\n",
       "      <th>13</th>\n",
       "      <th>14</th>\n",
       "    </tr>\n",
       "  </thead>\n",
       "  <tbody>\n",
       "    <tr>\n",
       "      <th>0</th>\n",
       "      <td>39</td>\n",
       "      <td>State-gov</td>\n",
       "      <td>77516</td>\n",
       "      <td>Bachelors</td>\n",
       "      <td>13</td>\n",
       "      <td>Never-married</td>\n",
       "      <td>Adm-clerical</td>\n",
       "      <td>Not-in-family</td>\n",
       "      <td>White</td>\n",
       "      <td>Male</td>\n",
       "      <td>2174</td>\n",
       "      <td>0</td>\n",
       "      <td>40</td>\n",
       "      <td>United-States</td>\n",
       "      <td>&lt;=50K</td>\n",
       "    </tr>\n",
       "    <tr>\n",
       "      <th>1</th>\n",
       "      <td>50</td>\n",
       "      <td>Self-emp-not-inc</td>\n",
       "      <td>83311</td>\n",
       "      <td>Bachelors</td>\n",
       "      <td>13</td>\n",
       "      <td>Married-civ-spouse</td>\n",
       "      <td>Exec-managerial</td>\n",
       "      <td>Husband</td>\n",
       "      <td>White</td>\n",
       "      <td>Male</td>\n",
       "      <td>0</td>\n",
       "      <td>0</td>\n",
       "      <td>13</td>\n",
       "      <td>United-States</td>\n",
       "      <td>&lt;=50K</td>\n",
       "    </tr>\n",
       "    <tr>\n",
       "      <th>2</th>\n",
       "      <td>38</td>\n",
       "      <td>Private</td>\n",
       "      <td>215646</td>\n",
       "      <td>HS-grad</td>\n",
       "      <td>9</td>\n",
       "      <td>Divorced</td>\n",
       "      <td>Handlers-cleaners</td>\n",
       "      <td>Not-in-family</td>\n",
       "      <td>White</td>\n",
       "      <td>Male</td>\n",
       "      <td>0</td>\n",
       "      <td>0</td>\n",
       "      <td>40</td>\n",
       "      <td>United-States</td>\n",
       "      <td>&lt;=50K</td>\n",
       "    </tr>\n",
       "    <tr>\n",
       "      <th>3</th>\n",
       "      <td>53</td>\n",
       "      <td>Private</td>\n",
       "      <td>234721</td>\n",
       "      <td>11th</td>\n",
       "      <td>7</td>\n",
       "      <td>Married-civ-spouse</td>\n",
       "      <td>Handlers-cleaners</td>\n",
       "      <td>Husband</td>\n",
       "      <td>Black</td>\n",
       "      <td>Male</td>\n",
       "      <td>0</td>\n",
       "      <td>0</td>\n",
       "      <td>40</td>\n",
       "      <td>United-States</td>\n",
       "      <td>&lt;=50K</td>\n",
       "    </tr>\n",
       "    <tr>\n",
       "      <th>4</th>\n",
       "      <td>28</td>\n",
       "      <td>Private</td>\n",
       "      <td>338409</td>\n",
       "      <td>Bachelors</td>\n",
       "      <td>13</td>\n",
       "      <td>Married-civ-spouse</td>\n",
       "      <td>Prof-specialty</td>\n",
       "      <td>Wife</td>\n",
       "      <td>Black</td>\n",
       "      <td>Female</td>\n",
       "      <td>0</td>\n",
       "      <td>0</td>\n",
       "      <td>40</td>\n",
       "      <td>Cuba</td>\n",
       "      <td>&lt;=50K</td>\n",
       "    </tr>\n",
       "  </tbody>\n",
       "</table>\n",
       "</div>"
      ],
      "text/plain": [
       "   0                 1       2          3   4                   5   \\\n",
       "0  39         State-gov   77516  Bachelors  13       Never-married   \n",
       "1  50  Self-emp-not-inc   83311  Bachelors  13  Married-civ-spouse   \n",
       "2  38           Private  215646    HS-grad   9            Divorced   \n",
       "3  53           Private  234721       11th   7  Married-civ-spouse   \n",
       "4  28           Private  338409  Bachelors  13  Married-civ-spouse   \n",
       "\n",
       "                  6              7      8       9     10  11  12  \\\n",
       "0       Adm-clerical  Not-in-family  White    Male  2174   0  40   \n",
       "1    Exec-managerial        Husband  White    Male     0   0  13   \n",
       "2  Handlers-cleaners  Not-in-family  White    Male     0   0  40   \n",
       "3  Handlers-cleaners        Husband  Black    Male     0   0  40   \n",
       "4     Prof-specialty           Wife  Black  Female     0   0  40   \n",
       "\n",
       "              13     14  \n",
       "0  United-States  <=50K  \n",
       "1  United-States  <=50K  \n",
       "2  United-States  <=50K  \n",
       "3  United-States  <=50K  \n",
       "4           Cuba  <=50K  "
      ]
     },
     "execution_count": 31,
     "metadata": {},
     "output_type": "execute_result"
    }
   ],
   "source": [
    "df.head() # Виводимо перші 5 рядків даних"
   ]
  },
  {
   "cell_type": "code",
   "execution_count": 32,
   "metadata": {},
   "outputs": [
    {
     "name": "stdout",
     "output_type": "stream",
     "text": [
      "<class 'pandas.core.frame.DataFrame'>\n",
      "RangeIndex: 32561 entries, 0 to 32560\n",
      "Data columns (total 15 columns):\n",
      " #   Column  Non-Null Count  Dtype \n",
      "---  ------  --------------  ----- \n",
      " 0   0       32561 non-null  int64 \n",
      " 1   1       32561 non-null  object\n",
      " 2   2       32561 non-null  int64 \n",
      " 3   3       32561 non-null  object\n",
      " 4   4       32561 non-null  int64 \n",
      " 5   5       32561 non-null  object\n",
      " 6   6       32561 non-null  object\n",
      " 7   7       32561 non-null  object\n",
      " 8   8       32561 non-null  object\n",
      " 9   9       32561 non-null  object\n",
      " 10  10      32561 non-null  int64 \n",
      " 11  11      32561 non-null  int64 \n",
      " 12  12      32561 non-null  int64 \n",
      " 13  13      32561 non-null  object\n",
      " 14  14      32561 non-null  object\n",
      "dtypes: int64(6), object(9)\n",
      "memory usage: 3.7+ MB\n"
     ]
    }
   ],
   "source": [
    "df.info() # Інформація про дані"
   ]
  },
  {
   "cell_type": "markdown",
   "metadata": {},
   "source": [
    "Фрейм складається з $15$ колонок, в кожній по $32561$ рядків. Пропусків немає, чудово - не треба буде видаляти рядки без даних."
   ]
  },
  {
   "cell_type": "code",
   "execution_count": 33,
   "metadata": {},
   "outputs": [
    {
     "data": {
      "text/html": [
       "<div>\n",
       "<style scoped>\n",
       "    .dataframe tbody tr th:only-of-type {\n",
       "        vertical-align: middle;\n",
       "    }\n",
       "\n",
       "    .dataframe tbody tr th {\n",
       "        vertical-align: top;\n",
       "    }\n",
       "\n",
       "    .dataframe thead th {\n",
       "        text-align: right;\n",
       "    }\n",
       "</style>\n",
       "<table border=\"1\" class=\"dataframe\">\n",
       "  <thead>\n",
       "    <tr style=\"text-align: right;\">\n",
       "      <th></th>\n",
       "      <th>0</th>\n",
       "      <th>2</th>\n",
       "      <th>4</th>\n",
       "      <th>10</th>\n",
       "      <th>11</th>\n",
       "      <th>12</th>\n",
       "    </tr>\n",
       "  </thead>\n",
       "  <tbody>\n",
       "    <tr>\n",
       "      <th>count</th>\n",
       "      <td>32561.000000</td>\n",
       "      <td>3.256100e+04</td>\n",
       "      <td>32561.000000</td>\n",
       "      <td>32561.000000</td>\n",
       "      <td>32561.000000</td>\n",
       "      <td>32561.000000</td>\n",
       "    </tr>\n",
       "    <tr>\n",
       "      <th>mean</th>\n",
       "      <td>38.581647</td>\n",
       "      <td>1.897784e+05</td>\n",
       "      <td>10.080679</td>\n",
       "      <td>1077.648844</td>\n",
       "      <td>87.303830</td>\n",
       "      <td>40.437456</td>\n",
       "    </tr>\n",
       "    <tr>\n",
       "      <th>std</th>\n",
       "      <td>13.640433</td>\n",
       "      <td>1.055500e+05</td>\n",
       "      <td>2.572720</td>\n",
       "      <td>7385.292085</td>\n",
       "      <td>402.960219</td>\n",
       "      <td>12.347429</td>\n",
       "    </tr>\n",
       "    <tr>\n",
       "      <th>min</th>\n",
       "      <td>17.000000</td>\n",
       "      <td>1.228500e+04</td>\n",
       "      <td>1.000000</td>\n",
       "      <td>0.000000</td>\n",
       "      <td>0.000000</td>\n",
       "      <td>1.000000</td>\n",
       "    </tr>\n",
       "    <tr>\n",
       "      <th>25%</th>\n",
       "      <td>28.000000</td>\n",
       "      <td>1.178270e+05</td>\n",
       "      <td>9.000000</td>\n",
       "      <td>0.000000</td>\n",
       "      <td>0.000000</td>\n",
       "      <td>40.000000</td>\n",
       "    </tr>\n",
       "    <tr>\n",
       "      <th>50%</th>\n",
       "      <td>37.000000</td>\n",
       "      <td>1.783560e+05</td>\n",
       "      <td>10.000000</td>\n",
       "      <td>0.000000</td>\n",
       "      <td>0.000000</td>\n",
       "      <td>40.000000</td>\n",
       "    </tr>\n",
       "    <tr>\n",
       "      <th>75%</th>\n",
       "      <td>48.000000</td>\n",
       "      <td>2.370510e+05</td>\n",
       "      <td>12.000000</td>\n",
       "      <td>0.000000</td>\n",
       "      <td>0.000000</td>\n",
       "      <td>45.000000</td>\n",
       "    </tr>\n",
       "    <tr>\n",
       "      <th>max</th>\n",
       "      <td>90.000000</td>\n",
       "      <td>1.484705e+06</td>\n",
       "      <td>16.000000</td>\n",
       "      <td>99999.000000</td>\n",
       "      <td>4356.000000</td>\n",
       "      <td>99.000000</td>\n",
       "    </tr>\n",
       "  </tbody>\n",
       "</table>\n",
       "</div>"
      ],
      "text/plain": [
       "                 0             2             4             10            11  \\\n",
       "count  32561.000000  3.256100e+04  32561.000000  32561.000000  32561.000000   \n",
       "mean      38.581647  1.897784e+05     10.080679   1077.648844     87.303830   \n",
       "std       13.640433  1.055500e+05      2.572720   7385.292085    402.960219   \n",
       "min       17.000000  1.228500e+04      1.000000      0.000000      0.000000   \n",
       "25%       28.000000  1.178270e+05      9.000000      0.000000      0.000000   \n",
       "50%       37.000000  1.783560e+05     10.000000      0.000000      0.000000   \n",
       "75%       48.000000  2.370510e+05     12.000000      0.000000      0.000000   \n",
       "max       90.000000  1.484705e+06     16.000000  99999.000000   4356.000000   \n",
       "\n",
       "                 12  \n",
       "count  32561.000000  \n",
       "mean      40.437456  \n",
       "std       12.347429  \n",
       "min        1.000000  \n",
       "25%       40.000000  \n",
       "50%       40.000000  \n",
       "75%       45.000000  \n",
       "max       99.000000  "
      ]
     },
     "execution_count": 33,
     "metadata": {},
     "output_type": "execute_result"
    }
   ],
   "source": [
    "df.describe() # Статистичні дані про числові стовпці"
   ]
  },
  {
   "cell_type": "markdown",
   "metadata": {},
   "source": [
    "# Попередня обробка даних\n",
    "\n",
    "## Перетворення цільової змінної\n",
    "\n",
    "Нашою цільовою колонкою буде колонка з доходом (під номером $14$). Переглянемо її унікальні значення"
   ]
  },
  {
   "cell_type": "code",
   "execution_count": 34,
   "metadata": {},
   "outputs": [
    {
     "data": {
      "text/plain": [
       "array(['<=50K', '>50K'], dtype=object)"
      ]
     },
     "execution_count": 34,
     "metadata": {},
     "output_type": "execute_result"
    }
   ],
   "source": [
    "df.iloc[:, -1].unique() # Унікальні значення цільової змінної"
   ]
  },
  {
   "cell_type": "markdown",
   "metadata": {},
   "source": [
    "Цільова змінна має тільки два унікальних значення. Їх можна перетворити у числові значення для спрощення обрахунків.\n",
    "Створимо два класи:\n",
    "* `0` для доходу `'<=50K'`\n",
    "* `1` для доходу `'>=50K'`"
   ]
  },
  {
   "cell_type": "code",
   "execution_count": 35,
   "metadata": {},
   "outputs": [],
   "source": [
    "df.iloc[:, -1] = df.iloc[:, -1].map({'<=50K': 0, '>50K': 1})"
   ]
  },
  {
   "cell_type": "markdown",
   "metadata": {},
   "source": [
    "Перевіримо, чи заміна пройшла успішно:"
   ]
  },
  {
   "cell_type": "code",
   "execution_count": 36,
   "metadata": {},
   "outputs": [
    {
     "data": {
      "text/plain": [
       "array([0, 1], dtype=object)"
      ]
     },
     "execution_count": 36,
     "metadata": {},
     "output_type": "execute_result"
    }
   ],
   "source": [
    "df.iloc[:, -1].unique()"
   ]
  },
  {
   "cell_type": "markdown",
   "metadata": {},
   "source": [
    "Все змінилось, чудово."
   ]
  },
  {
   "cell_type": "markdown",
   "metadata": {},
   "source": [
    "## Виділення незалежних та цільової змінної\n",
    "\n",
    "Тепер дані можна поділити та матрицю незалежних змінних та цільову змінну (виділити X та y):"
   ]
  },
  {
   "cell_type": "code",
   "execution_count": 37,
   "metadata": {},
   "outputs": [],
   "source": [
    "# Розділення ознак (X) і міток (y)\n",
    "X = df.iloc[:, :-1]\n",
    "y = df.iloc[:, -1].astype(int)"
   ]
  },
  {
   "cell_type": "markdown",
   "metadata": {},
   "source": [
    "## Перетворення даних\n",
    "\n",
    "Всі категоріальні дані можна перетворити у числові за допомогою `LabelEncoder` (алгоритми краще працюють на числових даних):"
   ]
  },
  {
   "cell_type": "code",
   "execution_count": 40,
   "metadata": {},
   "outputs": [],
   "source": [
    "# Обробка категоріальних змінних\n",
    "label_encoders = {} # Словник для збереження енкодерів\n",
    "for col in X.select_dtypes(include=['object']).columns:\n",
    "    le = LabelEncoder()\n",
    "    X[col] = le.fit_transform(X[col])\n",
    "    label_encoders[col] = le  # Збереження енкодерів"
   ]
  },
  {
   "cell_type": "markdown",
   "metadata": {},
   "source": [
    "Тепер числові дані треба відмасштабувати. Для цього можна скористатись `StandardScaler`:"
   ]
  },
  {
   "cell_type": "code",
   "execution_count": 41,
   "metadata": {},
   "outputs": [],
   "source": [
    "# Масштабування числових даних\n",
    "scaler = StandardScaler()\n",
    "X = scaler.fit_transform(X)"
   ]
  },
  {
   "cell_type": "markdown",
   "metadata": {},
   "source": [
    "# Навчання моделей\n",
    "\n",
    "## Вибір моделей\n",
    "\n",
    "Створимо словник з моделями, які будуть використовуватись для класифікації:\n",
    "* лінійний класифікатор\n",
    "* класифікатор з гаусовим ядром\n",
    "* з поліноміальним ядром\n",
    "* з сигмоїдальним ядром"
   ]
  },
  {
   "cell_type": "code",
   "execution_count": 42,
   "metadata": {},
   "outputs": [],
   "source": [
    "models = {\n",
    "    'Linear SVM': SVC(kernel='linear', random_state=0),  # Використовуємо SVC з лінійним ядром\n",
    "    'RBF SVM': SVC(kernel='rbf', random_state=0), # Використовуємо SVC з RBF ядром\n",
    "    'Poly SVM (degree=3)': SVC(kernel='poly', degree=3, random_state=0), # Використовуємо SVC з поліноміальним ядром (степінь 3)\n",
    "    'Sigmoid SVM': SVC(kernel='sigmoid', random_state=0) # Використовуємо SVC з сигмоїдальним ядром\n",
    "}"
   ]
  },
  {
   "cell_type": "markdown",
   "metadata": {},
   "source": [
    "## Поділ на навчальні та тестові вибірки\n",
    "\n",
    "Обов'язково треба моділити наші дані на навчальні та тестові вибірки. Це можна зробити за допомогою `train_test_split` з розміром тестової вибірки у $20\\%$"
   ]
  },
  {
   "cell_type": "code",
   "execution_count": 43,
   "metadata": {},
   "outputs": [],
   "source": [
    "X_train, X_test, y_train, y_test = train_test_split(X, y, test_size=0.2, random_state=5)"
   ]
  },
  {
   "cell_type": "markdown",
   "metadata": {},
   "source": [
    "## Створення функції для навчання та оцінки моделей\n",
    "\n",
    "Для зручності подальшого використання я вирішив зробити фунцію для одночасного навчання та оцінки моделей. Моделі оцінюються за __акуратністю, точністю, повнотою та F1-мірою__. Методи для оцінювання можна імпортувати з `sklearn`:"
   ]
  },
  {
   "cell_type": "code",
   "execution_count": 44,
   "metadata": {},
   "outputs": [],
   "source": [
    "from sklearn.metrics import accuracy_score, precision_score, recall_score, f1_score\n",
    "\n",
    "def train_and_evaluate(model, X_train, y_train, X_test, y_test):\n",
    "    \"\"\"Функція для навчання та оцінки моделі\"\"\"\n",
    "    model.fit(X_train, y_train)\n",
    "    y_pred = model.predict(X_test)\n",
    "\n",
    "    accuracy = accuracy_score(y_test, y_pred)\n",
    "    precision = precision_score(y_test, y_pred, average='weighted')\n",
    "    recall = recall_score(y_test, y_pred, average='weighted')\n",
    "    f1 = f1_score(y_test, y_pred, average='weighted')\n",
    "\n",
    "    print(f'Модель: {model.kernel}')\n",
    "    print(f'Акуратність: {accuracy*100:.2f}%')\n",
    "    print(f'Точність: {precision*100:.2f}%')\n",
    "    print(f'Повнота: {recall*100:.2f}%')\n",
    "    print(f'F1-міра: {f1*100:.2f}%')\n",
    "    print('-' * 40)"
   ]
  },
  {
   "cell_type": "markdown",
   "metadata": {},
   "source": [
    "## Навчання та оцінка моделей\n",
    "\n",
    "Тепер можна використати цю функцію для навчання та оцінки усіх моделей:"
   ]
  },
  {
   "cell_type": "code",
   "execution_count": 45,
   "metadata": {},
   "outputs": [
    {
     "name": "stdout",
     "output_type": "stream",
     "text": [
      "Модель: linear\n",
      "Акуратність: 80.90%\n",
      "Точність: 80.39%\n",
      "Повнота: 80.90%\n",
      "F1-міра: 77.21%\n",
      "----------------------------------------\n",
      "Модель: rbf\n",
      "Акуратність: 84.62%\n",
      "Точність: 83.81%\n",
      "Повнота: 84.62%\n",
      "F1-міра: 83.61%\n",
      "----------------------------------------\n",
      "Модель: poly\n",
      "Акуратність: 84.34%\n",
      "Точність: 83.56%\n",
      "Повнота: 84.34%\n",
      "F1-міра: 83.05%\n",
      "----------------------------------------\n",
      "Модель: sigmoid\n",
      "Акуратність: 76.05%\n",
      "Точність: 75.71%\n",
      "Повнота: 76.05%\n",
      "F1-міра: 75.87%\n",
      "----------------------------------------\n"
     ]
    }
   ],
   "source": [
    "for name, model in models.items():\n",
    "    train_and_evaluate(model, X_train, y_train, X_test, y_test)"
   ]
  },
  {
   "cell_type": "markdown",
   "metadata": {},
   "source": [
    "Можна помітити, що класифікатор з гаусовим ядром справився із задачою найкраще, маючи кожну оцінку вищу за $83\\%$. Поліноміальний класифікатор також має дуже високі результати, близькі до гаусового. Сигмоїдальний класифікатор справився найгірше. "
   ]
  },
  {
   "cell_type": "markdown",
   "metadata": {},
   "source": [
    "# Перевірка моделей на нових даних\n",
    "\n",
    "Тепер можна перевірити, як моделі будуть працювати із даними, які вони раніше не бачили. Для цього буде створено список з випадковою інформацією:"
   ]
  },
  {
   "cell_type": "code",
   "execution_count": 46,
   "metadata": {},
   "outputs": [],
   "source": [
    "input_data = ['37', 'Private', '215646', 'HS-grad', '9', 'Never-married', \n",
    "              'Handlers-cleaners', 'Not-in-family', 'White', 'Male', \n",
    "              '0', '0', '40', 'United-States']"
   ]
  },
  {
   "cell_type": "markdown",
   "metadata": {},
   "source": [
    "Ці дані теж треба закодувати та змасштабувати: "
   ]
  },
  {
   "cell_type": "code",
   "execution_count": 47,
   "metadata": {},
   "outputs": [],
   "source": [
    "# Перетворення нового зразка на формат, який приймає модель\n",
    "input_data_encoded = []\n",
    "for i, col in enumerate(df.columns[:-1]):\n",
    "    if col in label_encoders:\n",
    "        input_data_encoded.append(label_encoders[col].transform([input_data[i]])[0])\n",
    "    else:\n",
    "        input_data_encoded.append(float(input_data[i]))\n",
    "\n",
    "input_data_encoded = scaler.transform([input_data_encoded])"
   ]
  },
  {
   "cell_type": "markdown",
   "metadata": {},
   "source": [
    "Переглянемо, до якої категорії кожна з моделей віднесла цей приклад:"
   ]
  },
  {
   "cell_type": "code",
   "execution_count": 48,
   "metadata": {},
   "outputs": [
    {
     "name": "stdout",
     "output_type": "stream",
     "text": [
      "\n",
      "Результати передбачення для нового зразка:\n",
      "Linear SVM: <=50K\n",
      "RBF SVM: <=50K\n",
      "Poly SVM (degree=3): <=50K\n",
      "Sigmoid SVM: <=50K\n"
     ]
    }
   ],
   "source": [
    "# Передбачення кожною моделлю\n",
    "print('\\nРезультати передбачення для нового зразка:')\n",
    "for name, model in models.items():\n",
    "    predicted_class = model.predict(input_data_encoded)[0]\n",
    "    print(f'{name}: {\">50K\" if predicted_class == 1 else \"<=50K\"}')"
   ]
  },
  {
   "cell_type": "markdown",
   "metadata": {},
   "source": [
    "Кожна з моделей віднесла новий приклад до категорії доходу `'<=50K'`, що є правильно. У вхідних даних маємо схожий приклад (рядок №$3$), тому можемо порівняти."
   ]
  },
  {
   "cell_type": "markdown",
   "metadata": {},
   "source": [
    "## Порівняння якості класифікаторів\n",
    "\n",
    "Використаємо ще декілька алгоритмів класифікації:\n",
    "* Логістична регресія або логіт-модель (LR) \n",
    "* Лінійний дискримінантний аналіз (LDA) \n",
    "* Метод k-найближчих сусідів (KNN) \n",
    "* Класифікація та регресія за допомогою дерев (CART) \n",
    "* Наївний баєсовський класифікатор (NB) \n",
    "* Метод опорних векторів (SVM)\n",
    "\n",
    "Спочатку імортуємо їх всі:"
   ]
  },
  {
   "cell_type": "code",
   "execution_count": 49,
   "metadata": {},
   "outputs": [],
   "source": [
    "from sklearn.multiclass import OneVsRestClassifier\n",
    "from sklearn.linear_model import LogisticRegression \n",
    "from sklearn.tree import DecisionTreeClassifier \n",
    "from sklearn.neighbors import KNeighborsClassifier \n",
    "from sklearn.discriminant_analysis import LinearDiscriminantAnalysis \n",
    "from sklearn.naive_bayes import GaussianNB \n",
    "from sklearn.svm import SVC\n",
    "from sklearn.model_selection import StratifiedKFold "
   ]
  },
  {
   "cell_type": "markdown",
   "metadata": {},
   "source": [
    "Тепер зробимо те саме, що робили до цього. Створимо словник з моделями:"
   ]
  },
  {
   "cell_type": "code",
   "execution_count": 50,
   "metadata": {},
   "outputs": [
    {
     "name": "stdout",
     "output_type": "stream",
     "text": [
      "Logistic Regression: 0.824900 (0.005285)\n",
      "Decision Tree: 0.812769 (0.004371)\n",
      "K-Nearest Neighbors: 0.828394 (0.008836)\n",
      "Linear Discriminant Analysis: 0.814266 (0.004489)\n",
      "Gaussian Naive Bayes: 0.803632 (0.004787)\n",
      "Support Vector Classifier: 0.848433 (0.006860)\n"
     ]
    }
   ],
   "source": [
    "models = {\n",
    "    'Logistic Regression': OneVsRestClassifier(LogisticRegression(solver='liblinear')), # Використовуємо OneVsRestClassifier для багатокласової логістичної регресії\n",
    "    'Decision Tree': DecisionTreeClassifier(random_state=0), # Використовуємо дерево рішень\n",
    "    'K-Nearest Neighbors': KNeighborsClassifier(), # Використовуємо алгоритм найближчих сусідів\n",
    "    'Linear Discriminant Analysis': LinearDiscriminantAnalysis(), # Використовуємо лінійний дискримінантний аналіз\n",
    "    'Gaussian Naive Bayes': GaussianNB(), # Використовуємо наївний баєсівський класифікатор\n",
    "    'Support Vector Classifier': SVC(gamma='auto') # Використовуємо SVC з автоматичним вибором параметра gamma\n",
    "}\n",
    "\n",
    "# Оцінка моделей за допомогою крос-валідації\n",
    "results = []\n",
    "names = []\n",
    "\n",
    "# Використовуємо StratifiedKFold для збереження пропорцій класів у кожній складці\n",
    "for name, model in models.items():\n",
    "    kfold = StratifiedKFold(n_splits=10, shuffle=True, random_state=1)\n",
    "    cv_results = cross_val_score(model, X_train, y_train, cv=kfold, scoring='accuracy')\n",
    "    results.append(cv_results)\n",
    "    names.append(name)\n",
    "    msg = \"%s: %f (%f)\" % (name, cv_results.mean(), cv_results.std())\n",
    "    print(msg)"
   ]
  },
  {
   "cell_type": "markdown",
   "metadata": {},
   "source": [
    "Оцінювання відбувалось на основі акуратності. Можна помітити, що **метод опорних векторів** впорався найкраще, маючи середню оцінку у $85\\%$. На другому місці стоїть алгоритм **KNN** з оцінкою у $83\\%$, а на третьому - **логістична регресія** з оцінкою у $82\\%$.\n",
    "\n",
    "На основі цього можна зобразити діаграму розмаху: "
   ]
  },
  {
   "cell_type": "code",
   "execution_count": null,
   "metadata": {},
   "outputs": [
    {
     "data": {
      "image/png": "[encoded data removed]",
      "text/plain": [
       "<Figure size 640x480 with 1 Axes>"
      ]
     },
     "metadata": {},
     "output_type": "display_data"
    }
   ],
   "source": [
    "plt.boxplot(results, tick_labels=names)\n",
    "plt.title('Algorithm Comparison')\n",
    "plt.ylabel('Accuracy')\n",
    "plt.show()"
   ]
  },
  {
   "cell_type": "markdown",
   "metadata": {},
   "source": [
    "Можна іще раз побачити, що найкращою моделлю виявилась SVM. Її можна оцінити іще раз окремо:"
   ]
  },
  {
   "cell_type": "code",
   "execution_count": 52,
   "metadata": {},
   "outputs": [
    {
     "name": "stdout",
     "output_type": "stream",
     "text": [
      "Найкраща модель: Support Vector Classifier з точністю 84.62%\n"
     ]
    }
   ],
   "source": [
    "# Вибір моделі з найкращою точністю\n",
    "best_model_index = np.argmax([result.mean() for result in results])\n",
    "best_model_name = names[best_model_index]\n",
    "best_model = models[best_model_name]\n",
    "best_model.fit(X_train, y_train)\n",
    "best_model_accuracy = best_model.score(X_test, y_test)\n",
    "print(f'Найкраща модель: {best_model_name} з точністю {best_model_accuracy*100:.2f}%')"
   ]
  },
  {
   "cell_type": "markdown",
   "metadata": {},
   "source": [
    "З цим роботу над класифікацією даних `income_data.txt` можна вважати завершеною. Це завдання $2.1$, $2.2$ та $2.4$.\n",
    "Код доступний за посиланням:\n",
    "<a>https://github.com/dmuman/AI_systems/blob/main/classification/classification.ipynb</a>"
   ]
  }
 ],
 "metadata": {
  "kernelspec": {
   "display_name": "base",
   "language": "python",
   "name": "python3"
  },
  "language_info": {
   "codemirror_mode": {
    "name": "ipython",
    "version": 3
   },
   "file_extension": ".py",
   "mimetype": "text/x-python",
   "name": "python",
   "nbconvert_exporter": "python",
   "pygments_lexer": "ipython3",
   "version": "3.12.7"
  }
 },
 "nbformat": 4,
 "nbformat_minor": 2
}
