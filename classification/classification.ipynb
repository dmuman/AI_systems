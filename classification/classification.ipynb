{
 "cells": [
  {
   "cell_type": "code",
   "execution_count": 8,
   "metadata": {},
   "outputs": [],
   "source": [
    "import numpy as np\n",
    "import pandas as pd\n",
    "import matplotlib.pyplot as plt\n",
    "from sklearn.preprocessing import LabelEncoder, StandardScaler\n",
    "from sklearn.svm import LinearSVC, SVC\n",
    "from sklearn.multiclass import OneVsRestClassifier\n",
    "from sklearn.model_selection import train_test_split, cross_val_score"
   ]
  },
  {
   "cell_type": "code",
   "execution_count": 3,
   "metadata": {},
   "outputs": [],
   "source": [
    "input_file = 'income_data.txt'\n",
    "df = pd.read_csv(input_file, header=None, na_values=' ?', skipinitialspace=True)"
   ]
  },
  {
   "cell_type": "code",
   "execution_count": 4,
   "metadata": {},
   "outputs": [],
   "source": [
    "df.dropna(inplace=True)"
   ]
  },
  {
   "cell_type": "code",
   "execution_count": 5,
   "metadata": {},
   "outputs": [],
   "source": [
    "# Виділення міток класу\n",
    "df.iloc[:, -1] = df.iloc[:, -1].map({'<=50K': 0, '>50K': 1})"
   ]
  },
  {
   "cell_type": "code",
   "execution_count": 6,
   "metadata": {},
   "outputs": [],
   "source": [
    "# Розділення ознак (X) і міток (y)\n",
    "X = df.iloc[:, :-1]\n",
    "y = df.iloc[:, -1].astype(int)"
   ]
  },
  {
   "cell_type": "code",
   "execution_count": 9,
   "metadata": {},
   "outputs": [],
   "source": [
    "# Обробка категоріальних змінних\n",
    "label_encoders = {}\n",
    "for col in X.select_dtypes(include=['object']).columns:\n",
    "    le = LabelEncoder()\n",
    "    X[col] = le.fit_transform(X[col])\n",
    "    label_encoders[col] = le  # Збереження енкодерів"
   ]
  },
  {
   "cell_type": "code",
   "execution_count": 10,
   "metadata": {},
   "outputs": [],
   "source": [
    "# Масштабування числових даних\n",
    "scaler = StandardScaler()\n",
    "X = scaler.fit_transform(X)"
   ]
  },
  {
   "cell_type": "code",
   "execution_count": 12,
   "metadata": {},
   "outputs": [],
   "source": [
    "models = {\n",
    "    'Linear SVM': SVC(kernel='linear', random_state=0),\n",
    "    'RBF SVM': SVC(kernel='rbf', random_state=0),\n",
    "    'Poly SVM (degree=3)': SVC(kernel='poly', degree=3, random_state=0),\n",
    "    'Sigmoid SVM': SVC(kernel='sigmoid', random_state=0)\n",
    "}"
   ]
  },
  {
   "cell_type": "code",
   "execution_count": 13,
   "metadata": {},
   "outputs": [],
   "source": [
    "X_train, X_test, y_train, y_test = train_test_split(X, y, test_size=0.2, random_state=5)"
   ]
  },
  {
   "cell_type": "code",
   "execution_count": 14,
   "metadata": {},
   "outputs": [],
   "source": [
    "from sklearn.metrics import accuracy_score, precision_score, recall_score, f1_score\n",
    "\n",
    "def train_and_evaluate(model, X_train, y_train, X_test, y_test):\n",
    "    model.fit(X_train, y_train)\n",
    "    y_pred = model.predict(X_test)\n",
    "\n",
    "    accuracy = accuracy_score(y_test, y_pred)\n",
    "    precision = precision_score(y_test, y_pred, average='weighted')\n",
    "    recall = recall_score(y_test, y_pred, average='weighted')\n",
    "    f1 = f1_score(y_test, y_pred, average='weighted')\n",
    "\n",
    "    print(f'Модель: {model.kernel}')\n",
    "    print(f'Акуратність: {accuracy*100:.2f}%')\n",
    "    print(f'Точність: {precision*100:.2f}%')\n",
    "    print(f'Повнота: {recall*100:.2f}%')\n",
    "    print(f'F1-міра: {f1*100:.2f}%')\n",
    "    print('-' * 40)"
   ]
  },
  {
   "cell_type": "code",
   "execution_count": 16,
   "metadata": {},
   "outputs": [
    {
     "name": "stdout",
     "output_type": "stream",
     "text": [
      "Модель: linear\n",
      "Акуратність: 80.90%\n",
      "Точність: 80.39%\n",
      "Повнота: 80.90%\n",
      "F1-міра: 77.21%\n",
      "----------------------------------------\n",
      "Модель: rbf\n",
      "Акуратність: 84.62%\n",
      "Точність: 83.81%\n",
      "Повнота: 84.62%\n",
      "F1-міра: 83.61%\n",
      "----------------------------------------\n",
      "Модель: poly\n",
      "Акуратність: 84.34%\n",
      "Точність: 83.56%\n",
      "Повнота: 84.34%\n",
      "F1-міра: 83.05%\n",
      "----------------------------------------\n",
      "Модель: sigmoid\n",
      "Акуратність: 76.05%\n",
      "Точність: 75.71%\n",
      "Повнота: 76.05%\n",
      "F1-міра: 75.87%\n",
      "----------------------------------------\n"
     ]
    }
   ],
   "source": [
    "for name, model in models.items():\n",
    "    train_and_evaluate(model, X_train, y_train, X_test, y_test)"
   ]
  },
  {
   "cell_type": "code",
   "execution_count": 17,
   "metadata": {},
   "outputs": [],
   "source": [
    "input_data = ['37', 'Private', '215646', 'HS-grad', '9', 'Never-married', \n",
    "              'Handlers-cleaners', 'Not-in-family', 'White', 'Male', \n",
    "              '0', '0', '40', 'United-States']"
   ]
  },
  {
   "cell_type": "code",
   "execution_count": 18,
   "metadata": {},
   "outputs": [],
   "source": [
    "# Перетворення нового зразка на формат, який приймає модель\n",
    "input_data_encoded = []\n",
    "for i, col in enumerate(df.columns[:-1]):\n",
    "    if col in label_encoders:\n",
    "        input_data_encoded.append(label_encoders[col].transform([input_data[i]])[0])\n",
    "    else:\n",
    "        input_data_encoded.append(float(input_data[i]))\n",
    "\n",
    "input_data_encoded = scaler.transform([input_data_encoded])"
   ]
  },
  {
   "cell_type": "code",
   "execution_count": 19,
   "metadata": {},
   "outputs": [
    {
     "name": "stdout",
     "output_type": "stream",
     "text": [
      "\n",
      "Результати передбачення для нового зразка:\n",
      "Linear SVM: <=50K\n",
      "RBF SVM: <=50K\n",
      "Poly SVM (degree=3): <=50K\n",
      "Sigmoid SVM: <=50K\n"
     ]
    }
   ],
   "source": [
    "# Передбачення кожною моделлю\n",
    "print('\\nРезультати передбачення для нового зразка:')\n",
    "for name, model in models.items():\n",
    "    predicted_class = model.predict(input_data_encoded)[0]\n",
    "    print(f'{name}: {\">50K\" if predicted_class == 1 else \"<=50K\"}')"
   ]
  }
 ],
 "metadata": {
  "kernelspec": {
   "display_name": "base",
   "language": "python",
   "name": "python3"
  },
  "language_info": {
   "codemirror_mode": {
    "name": "ipython",
    "version": 3
   },
   "file_extension": ".py",
   "mimetype": "text/x-python",
   "name": "python",
   "nbconvert_exporter": "python",
   "pygments_lexer": "ipython3",
   "version": "3.12.7"
  }
 },
 "nbformat": 4,
 "nbformat_minor": 2
}
